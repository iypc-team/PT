{
  "nbformat": 4,
  "nbformat_minor": 0,
  "metadata": {
    "colab": {
      "name": "PTBlackjack.ipynb",
      "provenance": [],
      "private_outputs": true,
      "collapsed_sections": [],
      "machine_shape": "hm",
      "authorship_tag": "ABX9TyOW41FZmtmxkkKAPO4+XsFS",
      "include_colab_link": true
    },
    "kernelspec": {
      "name": "python3",
      "display_name": "Python 3"
    },
    "accelerator": "TPU"
  },
  "cells": [
    {
      "cell_type": "markdown",
      "metadata": {
        "id": "view-in-github",
        "colab_type": "text"
      },
      "source": [
        "<a href=\"https://colab.research.google.com/github/iypc-team/PT/blob/master/PTBlackjack.ipynb\" target=\"_parent\"><img src=\"https://colab.research.google.com/assets/colab-badge.svg\" alt=\"Open In Colab\"/></a>"
      ]
    },
    {
      "cell_type": "code",
      "metadata": {
        "id": "F1XpVvp9vn7L"
      },
      "source": [
        "from __future__ import absolute_import\n",
        "import os, shutil\n",
        "from pathlib import Path\n",
        "from google.colab import drive\n",
        "drive.flush_and_unmount()\n",
        "drive.mount('/content/drive', force_remount=True)\n",
        "os.chdir('/content/drive/My Drive/PythonFiles')\n",
        "import ImportDriveFiles\n",
        "import GetTPU\n",
        "from GetTPU import *\n",
        "from BashColors import C\n",
        "from ColabFiles import *"
      ],
      "execution_count": null,
      "outputs": []
    },
    {
      "cell_type": "code",
      "metadata": {
        "id": "sy7LqVOkzOvi"
      },
      "source": [
        "cdf.updateFiles()\n",
        "cdf.listColabFiles()"
      ],
      "execution_count": null,
      "outputs": []
    },
    {
      "cell_type": "code",
      "metadata": {
        "id": "Q_V_uJmZsoHq"
      },
      "source": [
        "readMePath=cdf.allFilesDict[125]\n",
        "with open(readMePath, 'r') as file:\n",
        "    print(f'{C.Green}{basename(readMePath)}{C.White}\\n')\n",
        "    print(file.read())"
      ],
      "execution_count": null,
      "outputs": []
    },
    {
      "cell_type": "code",
      "metadata": {
        "id": "ytzyJDai1-Ia"
      },
      "source": [
        "os.chdir('/content/drive/My Drive/PT/Fundamentals')\n",
        "dirList=glob('*.py')\n",
        "pth=None\n",
        "pathList=[]\n",
        "projectDict={}\n",
        "counter=0\n",
        "for filName in dirList:\n",
        "    fullPath=abspath(filName)\n",
        "    if fullPath.__contains__('blackJack'):\n",
        "        counter+=1\n",
        "        projectDict[counter]=fullPath\n",
        "        pathList.append(fullPath)\n",
        "        print(f'{counter}. {C.Green}{fullPath}{C.White}')\n",
        "for pth in sorted(pathList):\n",
        "    bn=basename(pth)\n",
        "    name=os.path.splitext(bn)\n",
        "    thisModule=name[0]\n",
        "    print(f'{thisModule}')\n",
        "    \n",
        "import control_blackJack_no_es\n",
        "import main_control_blackJack_no_es\n",
        "import main_prediction_blackJack as mmain\n",
        "import prediction_blackJack\n",
        "# from prediction_blackJack import Agent\n",
        "os.chdir('/content')"
      ],
      "execution_count": null,
      "outputs": []
    },
    {
      "cell_type": "code",
      "metadata": {
        "id": "CDUL9Y1OCINC"
      },
      "source": [
        "def copyToContent(path_list):\n",
        "    print(f'{C.BGreen}Copied to /content directory:{C.White}')\n",
        "    for pth in path_list:\n",
        "        sourcePath=pth\n",
        "        destinationPath= os.path.join('/content', basename(pth))\n",
        "        shutil.copy(sourcePath, destinationPath)\n",
        "        print(basename(destinationPath))\n",
        "copyToContent(path_list=pathList)"
      ],
      "execution_count": null,
      "outputs": []
    },
    {
      "cell_type": "code",
      "metadata": {
        "id": "WITAPcI4yX30"
      },
      "source": [
        "for pth in pathList:\n",
        "    with open(pth,'r') as fil:\n",
        "        print(f'{C.Green}{basename(pth)}\\n')\n",
        "        print(f'{C.White}{fil.read()}')"
      ],
      "execution_count": null,
      "outputs": []
    },
    {
      "cell_type": "code",
      "metadata": {
        "id": "-k29VXCaPKRq"
      },
      "source": [
        "import gym\n",
        "import matplotlib.pyplot as plt\n",
        "from control_blackJack_no_es import Agent\n",
        "\n",
        "if __name__=='__main__':\n",
        "    env=gym.make('Blackjack-v0')\n",
        "    agent=Agent(eps=0.001)\n",
        "    n_episodes=200000\n",
        "    win_loose_draw={-1:0, 0:0, 1:0}\n",
        "    win_rates=[]\n",
        "    for i in range(n_episodes):\n",
        "        if i > 0 and i % 1000==0:\n",
        "            pct=win_loose_draw[1] / i\n",
        "            print(pct)\n",
        "            win_rates.append(pct)\n",
        "        if i % 50000 == 0:\n",
        "            rates=win_rates[-1] if win_rates else 0.0\n",
        "            print('episode:', i, 'win rate',  round(rates, 3))\n",
        "        observation=env.reset()\n",
        "        done=False\n",
        "        while not done:\n",
        "            agent=agent.choose_action(state=observation) # (observation)\n",
        "            observation_, reward, done, info = env.step(action=action)\n",
        "            agent.memory.append((observation, action, reward))\n",
        "            observation=observation_\n",
        "        agent.update_Q()\n",
        "        win_loose_draw[reward]+=1\n",
        "    plt.plot(win_rates)\n",
        "    plt.show\n"
      ],
      "execution_count": null,
      "outputs": []
    }
  ]
}